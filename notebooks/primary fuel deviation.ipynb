{
 "cells": [
  {
   "cell_type": "code",
   "execution_count": 97,
   "id": "69461dd3-d3f4-4925-a391-fe5665322293",
   "metadata": {},
   "outputs": [],
   "source": [
    "import pandas as pd\n",
    "import numpy as np"
   ]
  },
  {
   "cell_type": "code",
   "execution_count": 99,
   "id": "c129961b-fbcc-40fb-a7dd-46a842afaa60",
   "metadata": {},
   "outputs": [],
   "source": [
    "primary_cons = pd.read_excel('../data/Statistical Review of World Energy Data.xlsx'\n",
    "                             ,sheet_name='Primary energy cons - EJ'\n",
    "                             ,skiprows=range(0,2)\n",
    "                            ,skipfooter=11)"
   ]
  },
  {
   "cell_type": "code",
   "execution_count": 101,
   "id": "7235add4-b426-43f3-86fe-c2525241b782",
   "metadata": {},
   "outputs": [],
   "source": [
    "cases_deaths = pd.read_csv('../notebooks/cases_deaths.csv')"
   ]
  },
  {
   "cell_type": "code",
   "execution_count": 103,
   "id": "ef196b79-bab6-4b60-9810-631d08e3c28f",
   "metadata": {},
   "outputs": [],
   "source": [
    "primary_cons = primary_cons.rename(columns={'Exajoules':'Country'}).replace(['US','Russian Federation','Trinidad & Tobago','China Hong Kong SAR'],\n",
    "                                                                            ['United States','Russia','Trinidad and Tobago','Hong Kong'])"
   ]
  },
  {
   "cell_type": "code",
   "execution_count": 105,
   "id": "eb55a663-8876-4b95-a235-707fb91e98da",
   "metadata": {},
   "outputs": [],
   "source": [
    "primary_cons = primary_cons[primary_cons['Country'].isin(cases_deaths['CountryName'])][['Country',2018,2019,2020]]"
   ]
  },
  {
   "cell_type": "code",
   "execution_count": 107,
   "id": "b8735278-ceea-4467-b1d2-cccab8b8dd79",
   "metadata": {},
   "outputs": [],
   "source": [
    "primary_cons[primary_cons.columns[1:]] = primary_cons[primary_cons.columns[1:]]*278"
   ]
  },
  {
   "cell_type": "code",
   "execution_count": 109,
   "id": "d5a09c41-911b-4130-9a3d-25370909e97b",
   "metadata": {},
   "outputs": [],
   "source": [
    "primary_cons['actual'] = ((primary_cons[2020]-primary_cons[2019])/primary_cons[2019])*100"
   ]
  },
  {
   "cell_type": "code",
   "execution_count": 111,
   "id": "5451b7b6-63cf-447f-900f-7d8b0b2e73dc",
   "metadata": {},
   "outputs": [],
   "source": [
    "primary_cons['expected'] = ((primary_cons[2019]-primary_cons[2018])/primary_cons[2018])*100"
   ]
  },
  {
   "cell_type": "code",
   "execution_count": 113,
   "id": "d5a9b284-2349-494f-b6b5-ecf147c79cd2",
   "metadata": {},
   "outputs": [],
   "source": [
    "primary_cons['deviation'] = primary_cons['actual']-primary_cons['expected']"
   ]
  },
  {
   "cell_type": "code",
   "execution_count": 119,
   "id": "91a7f884-168a-4e9a-8688-533d2aea14c2",
   "metadata": {},
   "outputs": [],
   "source": [
    "primary_cons[['Country','actual','expected','deviation']].to_csv('pct_change_primary.csv',index=False)"
   ]
  },
  {
   "cell_type": "code",
   "execution_count": null,
   "id": "22edb892-a696-4ed2-97ad-626b158009ea",
   "metadata": {},
   "outputs": [],
   "source": []
  }
 ],
 "metadata": {
  "kernelspec": {
   "display_name": "Python 3 (ipykernel)",
   "language": "python",
   "name": "python3"
  },
  "language_info": {
   "codemirror_mode": {
    "name": "ipython",
    "version": 3
   },
   "file_extension": ".py",
   "mimetype": "text/x-python",
   "name": "python",
   "nbconvert_exporter": "python",
   "pygments_lexer": "ipython3",
   "version": "3.12.7"
  }
 },
 "nbformat": 4,
 "nbformat_minor": 5
}
